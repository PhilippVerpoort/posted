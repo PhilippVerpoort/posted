{
 "cells": [
  {
   "cell_type": "code",
   "execution_count": 1,
   "id": "1575077e",
   "metadata": {},
   "outputs": [
    {
     "name": "stdout",
     "output_type": "stream",
     "text": [
      "Intel MKL WARNING: Support of Intel(R) Streaming SIMD Extensions 4.2 (Intel(R) SSE4.2) enabled only processors has been deprecated. Intel oneAPI Math Kernel Library 2025.0 will require Intel(R) Advanced Vector Extensions (Intel(R) AVX) instructions.\n",
      "Intel MKL WARNING: Support of Intel(R) Streaming SIMD Extensions 4.2 (Intel(R) SSE4.2) enabled only processors has been deprecated. Intel oneAPI Math Kernel Library 2025.0 will require Intel(R) Advanced Vector Extensions (Intel(R) AVX) instructions.\n"
     ]
    }
   ],
   "source": [
    "# load libraries\n",
    "import pandas as pd\n",
    "import os\n",
    "import sys\n",
    "# confiure display options\n",
    "pd.options.plotting.backend = \"plotly\"\n",
    "pd.set_option('display.max_rows', None)"
   ]
  },
  {
   "cell_type": "code",
   "execution_count": null,
   "id": "99d5b283",
   "metadata": {},
   "outputs": [],
   "source": [
    "from matplotlib import pyplot as plt\n",
    "import numpy as np\n",
    "x = np.linspace(0, 5, 10)\n",
    "y = x ** 2\n",
    "\n",
    "plt.figure()\n",
    "plt.plot(x, y, 'r')\n",
    "plt.xlabel('x')\n",
    "plt.ylabel('y')\n",
    "plt.title('title')\n",
    "plt.show()"
   ]
  },
  {
   "cell_type": "code",
   "execution_count": null,
   "id": "81973960",
   "metadata": {},
   "outputs": [],
   "source": [
    "import plotly.express as px\n",
    "fig = px.bar(x=[\"a\", \"b\", \"c\"], y=[1, 3, 2])\n",
    "fig.show()"
   ]
  },
  {
   "cell_type": "code",
   "execution_count": 2,
   "id": "c887862e",
   "metadata": {},
   "outputs": [],
   "source": [
    "from posted.tedf import TEDF\n",
    "from posted.noslag import DataSet"
   ]
  },
  {
   "cell_type": "code",
   "execution_count": null,
   "id": "96d691a6",
   "metadata": {},
   "outputs": [],
   "source": [
    "tedf = TEDF('Tech|Electrolysis')\n",
    "tedf.load()\n",
    "tedf.check()\n",
    "display(tedf.data)"
   ]
  },
  {
   "cell_type": "code",
   "execution_count": null,
   "id": "0280cac7",
   "metadata": {},
   "outputs": [],
   "source": [
    "\n",
    "DataSet('Tech|Electrolysis').normalise(override={'Tech|ELH2|Input Capacity|Electricity': 'kW', 'Tech|ELH2|Output Capacity|h2': 'kW;LHV'}).query(\"source=='Vartiainen22'\")"
   ]
  },
  {
   "cell_type": "code",
   "execution_count": null,
   "id": "08117bbb",
   "metadata": {},
   "outputs": [],
   "source": [
    "DataSet('Tech|Electrolysis').normalise(override={ 'Tech|ELH2|Output Capacity|Hydrogen': 'kW;LHV'})"
   ]
  },
  {
   "cell_type": "code",
   "execution_count": null,
   "id": "337e98ab",
   "metadata": {},
   "outputs": [],
   "source": [
    "display(DataSet('Tech|Electrolysis').select(period=2020, subtech='AEL', size='100 MW', override={'Tech|Electrolosys|Output Capacity|Hydrogen': 'kW;LHV'}))"
   ]
  },
  {
   "cell_type": "code",
   "execution_count": null,
   "id": "18c4f208",
   "metadata": {},
   "outputs": [],
   "source": [
    "DataSet('Tech|Electrolysis').select(period=2030, source='Yates20', subtech='AEL', size='100 MW', override={'Tech|Electrolysis|Output Capacity|h2': 'kW;LHV'}, extrapolate_period=False)"
   ]
  },
  {
   "cell_type": "code",
   "execution_count": null,
   "id": "1da151d9",
   "metadata": {},
   "outputs": [],
   "source": [
    "DataSet('Tech|Electrolysis').select(subtech=['AEL', 'PEM'], size='100 MW', override={'Tech|Electrolysis|Input Capacity|Electricity': 'kW'})"
   ]
  },
  {
   "cell_type": "code",
   "execution_count": null,
   "id": "ba5d2cf7",
   "metadata": {},
   "outputs": [],
   "source": [
    "DataSet('Tech|Electrolysis').aggregate(subtech='AEL', size='100 MW', agg='subtech', override={'Tech|ELH2|Output Capacity|Hydrogen': 'kW;LHV'})"
   ]
  },
  {
   "cell_type": "code",
   "execution_count": null,
   "id": "619e86ee",
   "metadata": {},
   "outputs": [],
   "source": [
    "from posted.units import unit_convert\n",
    "df_compare_electrolysis = DataSet('Tech|Electrolysis') \\\n",
    "    .select(period=[2020, 2030, 2040, 2050], subtech=['AEL', 'PEM'], override={'Tech|Electrolysis|Output Capacity|Hydrogen': 'kW;LHV'}, source=['DEARF23', 'Vartiainen22', 'Holst21', 'IRENA22'], size=['1 MW', '5 MW', '100 MW'], extrapolate_period=False) \\\n",
    "    .query(f\"variable=='Tech|Electrolysis|Capital Cost'\")\n",
    "display(df_compare_electrolysis)\n",
    "# df_compare_electrolysis \\\n",
    "#     .assign(size_sort=lambda df: df['size'].str.split(' ', n=1, expand=True).iloc[:, 0].astype(int)) \\\n",
    "#     .sort_values(by=['size_sort', 'period']) \\\n",
    "#     .plot.line(x='period', y='value', color='source', facet_col='size', facet_row='subtech')"
   ]
  },
  {
   "cell_type": "code",
   "execution_count": null,
   "id": "01502380",
   "metadata": {},
   "outputs": [],
   "source": [
    "from posted.units import unit_convert\n",
    "unit_convert(\"m**3/hour;norm\",'MWh/a;LHV' , 'Hydrogen')"
   ]
  },
  {
   "cell_type": "code",
   "execution_count": null,
   "id": "358abb7f",
   "metadata": {},
   "outputs": [],
   "source": [
    "# display(DataSet('Tech|Methane Reforming').aggregate(period=2030).query(\"variable.str.contains('OM Cost')\"))\n",
    "# display(DataSet('Tech|Methane Reforming').aggregate(period=2030).query(\"variable.str.contains('Demand')\"))\n",
    "\n",
    "DataSet('Tech|Methane Reforming').aggregate(period=2030).sort_values(by=\"variable\")"
   ]
  },
  {
   "cell_type": "code",
   "execution_count": null,
   "id": "8183d9d1",
   "metadata": {},
   "outputs": [],
   "source": [
    "TEDF('Tech|Direct Air Capture').load().data"
   ]
  },
  {
   "cell_type": "code",
   "execution_count": null,
   "id": "2cb3079f",
   "metadata": {},
   "outputs": [],
   "source": [
    "DataSet('Tech|Direct Air Capture').normalise()"
   ]
  },
  {
   "cell_type": "code",
   "execution_count": null,
   "id": "f3a9c0fb",
   "metadata": {},
   "outputs": [],
   "source": [
    "DataSet('Tech|Direct Air Capture').select()"
   ]
  },
  {
   "cell_type": "code",
   "execution_count": null,
   "id": "56b705ad",
   "metadata": {},
   "outputs": [],
   "source": [
    "#NSHADataSet('Tech|MEOH-SYN').select(period=2040)"
   ]
  },
  {
   "cell_type": "code",
   "execution_count": null,
   "id": "b5470d08",
   "metadata": {},
   "outputs": [],
   "source": [
    "TEDF('Tech|Haber-Bosch with ASU').load().check()\n",
    "DataSet('Tech|Haber-Bosch with ASU').normalise()"
   ]
  },
  {
   "cell_type": "code",
   "execution_count": null,
   "id": "e34f7abe",
   "metadata": {},
   "outputs": [],
   "source": [
    "DataSet('Tech|Haber-Bosch with ASU').select(period=2020)"
   ]
  },
  {
   "cell_type": "code",
   "execution_count": null,
   "id": "5e55b817",
   "metadata": {},
   "outputs": [],
   "source": [
    "DataSet('Tech|Haber-Bosch with ASU').aggregate(period=2020)"
   ]
  }
 ],
 "metadata": {
  "kernelspec": {
   "display_name": "posted",
   "language": "python",
   "name": "python3"
  },
  "language_info": {
   "codemirror_mode": {
    "name": "ipython",
    "version": 3
   },
   "file_extension": ".py",
   "mimetype": "text/x-python",
   "name": "python",
   "nbconvert_exporter": "python",
   "pygments_lexer": "ipython3",
   "version": "3.10.12"
  }
 },
 "nbformat": 4,
 "nbformat_minor": 5
}
