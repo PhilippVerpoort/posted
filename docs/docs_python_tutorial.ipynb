{
 "cells": [
  {
   "cell_type": "code",
   "execution_count": null,
   "id": "ba16f09a-866c-41d3-a762-fad9eefad389",
   "metadata": {},
   "outputs": [],
   "source": [
    "import pandas as pd\n",
    "import os\n",
    "import sys\n",
    "pd.options.plotting.backend = \"plotly\"\n",
    "pd.set_option('display.max_rows', None)\n",
    "module_path = os.path.abspath(os.path.join('..'))\n",
    "module_path = module_path + \"/python\"\n",
    "if module_path not in sys.path:\n",
    "    sys.path.append(module_path)\n"
   ]
  },
  {
   "cell_type": "code",
   "execution_count": null,
   "id": "eee87443-0893-4c0c-8d0e-2dacda2c6970",
   "metadata": {},
   "outputs": [],
   "source": [
    "from posted.tedf import TEDF\n",
    "from posted.noslag import DataSet"
   ]
  },
  {
   "cell_type": "code",
   "execution_count": null,
   "id": "37a717f4-d058-4459-8b9e-45faa3a36e2c",
   "metadata": {},
   "outputs": [],
   "source": [
    "tedf = TEDF('Tech|Electrolysis')\n",
    "tedf.load()\n",
    "tedf.check()\n",
    "display(tedf.data)"
   ]
  },
  {
   "cell_type": "code",
   "execution_count": null,
   "id": "c5ad98a1-35bb-4864-90ac-8e62691a23d8",
   "metadata": {},
   "outputs": [],
   "source": [
    "\n",
    "DataSet('Tech|Electrolysis').normalise(override={'Tech|ELH2|Input Capacity|Electricity': 'kW', 'Tech|ELH2|Output Capacity|h2': 'kW;LHV'}).query(\"source=='Vartiainen22'\")"
   ]
  },
  {
   "cell_type": "code",
   "execution_count": null,
   "id": "cbd343c7",
   "metadata": {},
   "outputs": [],
   "source": [
    "DataSet('Tech|Electrolysis').normalise(override={ 'Tech|ELH2|Output Capacity|Hydrogen': 'kW;LHV'})"
   ]
  },
  {
   "cell_type": "code",
   "execution_count": null,
   "id": "5d4378a5-8918-4b54-ab9f-b2afdd091d29",
   "metadata": {},
   "outputs": [],
   "source": [
    "display(DataSet('Tech|Electrolysis').select(period=2020, subtech='AEL', size='100 MW', override={'Tech|Electrolosys|Output Capacity|Hydrogen': 'kW;LHV'}))"
   ]
  },
  {
   "cell_type": "code",
   "execution_count": null,
   "id": "46b7d631-c84c-4019-87d8-00cd563cf72d",
   "metadata": {},
   "outputs": [],
   "source": [
    "DataSet('Tech|Electrolysis').select(period=2030, source='Yates20', subtech='AEL', size='100 MW', override={'Tech|Electrolysis|Output Capacity|h2': 'kW;LHV'}, extrapolate_period=False)"
   ]
  },
  {
   "cell_type": "code",
   "execution_count": null,
   "id": "3226772c-8a03-41ee-aeb1-b6473099c17b",
   "metadata": {},
   "outputs": [],
   "source": [
    "DataSet('Tech|Electrolysis').select(subtech=['AEL', 'PEM'], size='100 MW', override={'Tech|Electrolysis|Input Capacity|Electricity': 'kW'})"
   ]
  },
  {
   "cell_type": "code",
   "execution_count": null,
   "id": "b10fac38-f9ae-4eb4-ab42-d1f4100e5964",
   "metadata": {},
   "outputs": [],
   "source": [
    "DataSet('Tech|Electrolysis').aggregate(subtech='AEL', size='100 MW', agg='subtech', override={'Tech|ELH2|Output Capacity|Hydrogen': 'kW;LHV'})"
   ]
  },
  {
   "cell_type": "code",
   "execution_count": null,
   "id": "72c42bb6-f8d3-4b81-ace6-c7cfb033e84c",
   "metadata": {},
   "outputs": [],
   "source": [
    "from posted.units import unit_convert\n",
    "df_compare_electrolysis = DataSet('Tech|Electrolysis') \\\n",
    "    .select(period=[2020, 2030, 2040, 2050], subtech=['AEL', 'PEM'], override={'Tech|Electrolysis|Output Capacity|Hydrogen': 'kW;LHV'}, source=['DEARF23', 'Vartiainen22', 'Holst21', 'IRENA22'], size=['1 MW', '5 MW', '100 MW'], extrapolate_period=False) \\\n",
    "    .query(f\"variable=='Tech|Electrolysis|Capital Cost'\")\n",
    "display(df_compare_electrolysis)\n",
    "# df_compare_electrolysis \\\n",
    "#     .assign(size_sort=lambda df: df['size'].str.split(' ', n=1, expand=True).iloc[:, 0].astype(int)) \\\n",
    "#     .sort_values(by=['size_sort', 'period']) \\\n",
    "#     .plot.line(x='period', y='value', color='source', facet_col='size', facet_row='subtech')"
   ]
  },
  {
   "cell_type": "code",
   "execution_count": null,
   "id": "611c4e8b",
   "metadata": {},
   "outputs": [],
   "source": [
    "from posted.units import unit_convert\n",
    "unit_convert(\"m**3/hour;norm\",'MWh/a;LHV' , 'Hydrogen')"
   ]
  },
  {
   "cell_type": "code",
   "execution_count": null,
   "id": "c024edb9-fb38-4a4c-b4d8-564e39f70fb0",
   "metadata": {},
   "outputs": [],
   "source": [
    "# display(DataSet('Tech|Methane Reforming').aggregate(period=2030).query(\"variable.str.contains('OM Cost')\"))\n",
    "# display(DataSet('Tech|Methane Reforming').aggregate(period=2030).query(\"variable.str.contains('Demand')\"))\n",
    "\n",
    "DataSet('Tech|Methane Reforming').aggregate(period=2030).sort_values(by=\"variable\")"
   ]
  },
  {
   "cell_type": "code",
   "execution_count": null,
   "id": "b489a7ab-8db6-461a-b86b-fd0b8e756377",
   "metadata": {},
   "outputs": [],
   "source": [
    "TEDF('Tech|Direct Air Capture').load().data"
   ]
  },
  {
   "cell_type": "code",
   "execution_count": null,
   "id": "fb93ce42-6b56-42db-a42b-d2e23fb65cb1",
   "metadata": {},
   "outputs": [],
   "source": [
    "DataSet('Tech|Direct Air Capture').normalise()"
   ]
  },
  {
   "cell_type": "code",
   "execution_count": null,
   "id": "5ab4cea8-1902-45ce-937b-7c5a1d2b1037",
   "metadata": {},
   "outputs": [],
   "source": [
    "DataSet('Tech|Direct Air Capture').select()"
   ]
  },
  {
   "cell_type": "code",
   "execution_count": null,
   "id": "7e123b61-99f1-49eb-91ec-a58ea0da1d12",
   "metadata": {},
   "outputs": [],
   "source": [
    "#NSHADataSet('Tech|MEOH-SYN').select(period=2040)"
   ]
  },
  {
   "cell_type": "code",
   "execution_count": null,
   "id": "565d435e-72dd-4cc7-b3cc-17df26d4de3e",
   "metadata": {},
   "outputs": [],
   "source": [
    "TEDF('Tech|Haber-Bosch with ASU').load().check()\n",
    "DataSet('Tech|Haber-Bosch with ASU').normalise()"
   ]
  },
  {
   "cell_type": "code",
   "execution_count": null,
   "id": "43241302-0104-48e4-8cff-895acbec8e71",
   "metadata": {},
   "outputs": [],
   "source": [
    "DataSet('Tech|Haber-Bosch with ASU').select(period=2020)"
   ]
  },
  {
   "cell_type": "code",
   "execution_count": null,
   "id": "65c341d3-d316-4bf5-81ea-dea20cebd33e",
   "metadata": {},
   "outputs": [],
   "source": [
    "DataSet('Tech|Haber-Bosch with ASU').aggregate(period=2020)"
   ]
  }
 ],
 "metadata": {
  "kernelspec": {
   "display_name": "posted",
   "language": "python",
   "name": "python3"
  },
  "language_info": {
   "codemirror_mode": {
    "name": "ipython",
    "version": 3
   },
   "file_extension": ".py",
   "mimetype": "text/x-python",
   "name": "python",
   "nbconvert_exporter": "python",
   "pygments_lexer": "ipython3",
   "version": "3.10.12"
  }
 },
 "nbformat": 4,
 "nbformat_minor": 5
}
